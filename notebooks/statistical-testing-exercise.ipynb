{
 "cells": [
  {
   "cell_type": "code",
   "execution_count": 1,
   "metadata": {},
   "outputs": [
    {
     "data": {
      "text/plain": [
       "0.858925033055968"
      ]
     },
     "execution_count": 1,
     "metadata": {},
     "output_type": "execute_result"
    }
   ],
   "source": [
    "# T-test\n",
    "\n",
    "## Import the packages\n",
    "import numpy as np\n",
    "from scipy import stats\n",
    "\n",
    "## Define 2 random distributions\n",
    "# Sample Size\n",
    "N = 10\n",
    "# Gaussian distributed data with mean = 2 and var = 1\n",
    "a = np.random.randn(N) + 2\n",
    "# Gaussian distributed data with with mean = 0 and var = 1\n",
    "b = np.random.randn(N)\n",
    "\n",
    "## Calculate the Standard Deviation\n",
    "# Calculate the variance to get the standard deviation\n",
    "\n",
    "# For unbiased max likelihood estimate we have to divide the var by N-1, and therefore the parameter ddof = 1\n",
    "var_a = a.var(ddof=1)\n",
    "var_b = b.var(ddof=1)\n",
    "\n",
    "# std deviation\n",
    "s = np.sqrt((var_a + var_b)/2)\n",
    "s"
   ]
  },
  {
   "cell_type": "code",
   "execution_count": 3,
   "metadata": {},
   "outputs": [
    {
     "name": "stdout",
     "output_type": "stream",
     "text": [
      "t = 5.138377992786296\n",
      "p = 6.88798215611186e-05\n",
      "t = 5.138377992786296\n",
      "p = 6.887982156104175e-05\n"
     ]
    }
   ],
   "source": [
    "## Calculate the t-statistics\n",
    "t = (a.mean() - b.mean()) / (s * np.sqrt(2 / N))\n",
    "\n",
    "## Compare with the critical t-value\n",
    "# Degrees of freedom\n",
    "df = 2 * N - 2\n",
    "\n",
    "# p-value after comparison with the t \n",
    "p = 1 - stats.t.cdf(t, df = df)\n",
    "\n",
    "\n",
    "print(\"t = \" + str(t))\n",
    "print(\"p = \" + str(2*p))\n",
    "### You can see that after comparing the t statistic with the critical t value (computed internally) we get a good p value of 0.0005 and thus we reject the null hypothesis and thus it proves that the mean of the two distributions are different and statistically significant.\n",
    "\n",
    "## Cross Checking with the internal scipy function\n",
    "t2, p2 = stats.ttest_ind(a, b)\n",
    "print(\"t = \" + str(t2))\n",
    "print(\"p = \" + str(p2))"
   ]
  },
  {
   "cell_type": "code",
   "execution_count": 10,
   "metadata": {},
   "outputs": [
    {
     "data": {
      "text/plain": [
       "Ttest_indResult(statistic=0.08471721030905599, pvalue=0.9334213592888135)"
      ]
     },
     "execution_count": 10,
     "metadata": {},
     "output_type": "execute_result"
    }
   ],
   "source": [
    "a1 = np.random.randn(N)\n",
    "b1 = np.random.randn(N)\n",
    "\n",
    "stats.ttest_ind(a1, b1)"
   ]
  },
  {
   "cell_type": "code",
   "execution_count": null,
   "metadata": {},
   "outputs": [],
   "source": [
    "# Permutation testing\n"
   ]
  }
 ],
 "metadata": {
  "kernelspec": {
   "display_name": "Python 3",
   "language": "python",
   "name": "python3"
  },
  "language_info": {
   "codemirror_mode": {
    "name": "ipython",
    "version": 3
   },
   "file_extension": ".py",
   "mimetype": "text/x-python",
   "name": "python",
   "nbconvert_exporter": "python",
   "pygments_lexer": "ipython3",
   "version": "3.7.4"
  }
 },
 "nbformat": 4,
 "nbformat_minor": 4
}
