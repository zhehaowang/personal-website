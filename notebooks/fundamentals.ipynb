{
 "cells": [
  {
   "cell_type": "markdown",
   "metadata": {},
   "source": [
    "# Fundamental stats of a stock"
   ]
  },
  {
   "cell_type": "markdown",
   "metadata": {},
   "source": [
    "EPS = Earnings / Number of Shares\n",
    "\n",
    "Price / Earnings = Price per share / Earnings per share\n",
    "\n",
    "Dividend Yield (percentage) = Dividend per share / Price per share"
   ]
  },
  {
   "cell_type": "markdown",
   "metadata": {},
   "source": [
    "### Tax rate\n",
    "\n",
    "* Common stock first-year dividends, first-year sell capital gain, and REIT dividends are taxed at **regular income tax rate**, 35%\n",
    "* Common stock after-first-year dividends, and after-first-year sell capital gain are taxed at **capital gains tax rate**, 15%"
   ]
  },
  {
   "cell_type": "code",
   "execution_count": null,
   "metadata": {},
   "outputs": [],
   "source": []
  }
 ],
 "metadata": {
  "kernelspec": {
   "display_name": "Python 3",
   "language": "python",
   "name": "python3"
  },
  "language_info": {
   "codemirror_mode": {
    "name": "ipython",
    "version": 3
   },
   "file_extension": ".py",
   "mimetype": "text/x-python",
   "name": "python",
   "nbconvert_exporter": "python",
   "pygments_lexer": "ipython3",
   "version": "3.7.4"
  }
 },
 "nbformat": 4,
 "nbformat_minor": 4
}
